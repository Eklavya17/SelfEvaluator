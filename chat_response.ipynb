{
 "cells": [
  {
   "cell_type": "code",
   "execution_count": 2,
   "metadata": {},
   "outputs": [],
   "source": [
    "# this one is just used for testing\n",
    "\n",
    "import os\n",
    "from openai import OpenAI\n",
    "import json\n",
    "from tkinter import scrolledtext\n",
    "import sys\n",
    "import io\n",
    "from contextlib import redirect_stdout\n",
    "import re\n",
    "import openai\n",
    "\n",
    "# Main application window\n",
    "client = OpenAI(\n",
    "    # This is the default and can be omitted\n",
    "    api_key=os.environ.get(\"OPENAI_API\")\n",
    ")\n",
    "\n",
    "def get_completion_2(prompt):\n",
    "    chat_completion = client.chat.completions.create(\n",
    "            messages=[\n",
    "                {\n",
    "                    \"role\": \"user\",\n",
    "                    \"content\": prompt,\n",
    "                }\n",
    "            ],\n",
    "            model=\"gpt-4\",\n",
    "    \n",
    "    \n",
    "    )\n",
    "    return chat_completion.choices[0].message.content"
   ]
  },
  {
   "cell_type": "code",
   "execution_count": 3,
   "metadata": {},
   "outputs": [
    {
     "name": "stdout",
     "output_type": "stream",
     "text": [
      "Hello! How can I assist you today?\n",
      "Sure, here is the Python code:\n",
      "\n",
      "```python\n",
      "for i in range(3):\n",
      "    print(\"Hello World\")\n",
      "    print(f\"This is the value of i: {i}\")\n",
      "```\n",
      "\n",
      "In this Python loop, the first iteration will start from `0`, and the loop will continue until `2`. For each of the loops iteration, it prints \"Hello World\" first, then in the next line it prints `This is the value of i: ` along with the current iteration value.\n"
     ]
    }
   ],
   "source": [
    "prompt = \"hi\"\n",
    "response = get_completion_2(prompt)\n",
    "print(response)\n",
    "response = get_completion_2(\"Write me simple python code that has a loop for in range of 3, prints out hello world in one line and in the next prints out i, this is the value of i where i is the value of the loop iterator\")\n",
    "print(response)"
   ]
  },
  {
   "cell_type": "code",
   "execution_count": 4,
   "metadata": {},
   "outputs": [],
   "source": [
    "x = get_completion_2(\"\"\"Finish the following astronomy coding homework. Explain your code when necessary.\n",
    "ASTR 596: FDS Homework 5: Hunting for Exoplanets (Due April 1 at Noon)\n",
    "The Kepler satellite has discovered many multi-planet systems. You can download artwork for some of them even at the Exoplanet Travel Bureau\n",
    "But is there a system like our own Solar system with 8 planets (sorry Pluto)? In fact, there may be at least one - Kepler 90. This along with most other Kepler planets, were not discovered through radial velocity measurements like our example in class (i.e. that nice parameteric model doesn't apply), but were rather discovered through transits - dips in the light of the star as the planet moves around it.\n",
    "You get to find 3 exoplanets in the Kepler-90 system with the techniques in class.\n",
    "To get and analyze the Kepler data, you'll need the lightkurve package\n",
    "python -m pip install lightkurve --upgrade\n",
    "I've included some code to get the light curve, clean it and remove the NaNs, and some outliers (you can judge the wisdom of strong outlier removal when you are hunting for planets), and bin the light curve a little bit in time.\n",
    "\n",
    "Hints:\n",
    "* lightkurve has a bunch of useful tutorials, in particular this one\n",
    "* once you get to a periodogram with lightkurve, find_peaks in scipy can help identify the exoplanet peaks\n",
    "* You might find it easier to remove the signal of each planet as you find it and work with the residual light curve to find the next. This isn't strictly necessary if you do the previous steps well, but can be helpful. The tutorials page has a demo.\n",
    "* The Exoplanet Archive might be of help\n",
    "\n",
    "Happy (planet) hunting!\n",
    "\n",
    "import numpy as np\n",
    "import astropy.table as at\n",
    "import astropy.units as u\n",
    "import matplotlib.pyplot as plt\n",
    "import lightkurve as lk\n",
    "from scipy.signal import find_peaks, find_peaks_cwt\n",
    "\n",
    "### RUN THIS\n",
    "lcfs = lk.search_lightcurve('Kepler-90', mission='Kepler').download_all()[:12]\n",
    "\n",
    "### RUN THIS\n",
    "def squelch_rednoise(lc):\n",
    "    corrected_lc = lc.remove_outliers(sigma_upper=10, sigma_lower=10).normalize().flatten(window_length=101)\n",
    "    return corrected_lc\n",
    "\n",
    "### RUN THIS - it will take a while.\n",
    "stitched_lc = lcfs.stitch(corrector_func=squelch_rednoise)\n",
    "\n",
    "clc = stitched_lc.remove_nans().bin(time_bin_size=15*u.min)\n",
    "clc.scatter();\n",
    "Q1. First, calculate the periodogram using lightkurve. Use the bls method. Look for planets between 50 and 500 day periods with a grid spacing of 0.01d - this is coarse. Use scipy.signal.find_peaks to identify peaks in the periodogram. Remember to exclude any peaks arising from the Earth's revolution. Plot the periodogram and highlight the peak locations. (25 pts)\n",
    "Q2. a. The periodogram function from lightkurve can also get a transit time and peak power using periodogram.transit_time and periodogram.power - you'll want both. Get a sorted list of candidate periods, and print it sorted by peak power. (10 pts)\n",
    "Q2. b. Next sort the list of periods from longest to shorted. Check if each period has a period in your list that is either 1/2 or 1/3 the same value. If it is, exclude it. If not keep it. Select the four periods with the highest power between 0 to 100d, 100d and 200d, 200d and 300d and 300d and 400d. (15 pts)\n",
    "Q3. Select each peak period from the coarse grid in Q2.b. and then use lightkurve algorithm to refine the period within +/- 5 days, and get the best period. (25 pts)\n",
    "\n",
    "Q4. Use lightkurve.fold to plot the folded light curve for each of the best periods in Q3. (25 pts)\"\"\")\n"
   ]
  },
  {
   "cell_type": "code",
   "execution_count": 5,
   "metadata": {},
   "outputs": [
    {
     "data": {
      "text/plain": [
       "'To implement this, we\\'ll first install and import necessary libraries, then collect and process data. Then we\\'ll perform periodogram calculations and peak detection. After that, we analyze and refine the periods, and finally plot the folded lightcurve for each period.\\n\\nHere\\'s some Python sample code:\\n\\n```python\\n# Import packages\\nfrom scipy.signal import find_peaks\\nfrom lightkurve import search_lightcurve\\nimport lightkurve as lk\\nimport matplotlib.pyplot as plt\\nimport pandas as pd\\nimport numpy as np\\n\\n# Download light curve files for \\'Kepler-90\\'\\nlcfs = lk.search_lightcurve(\\'Kepler-90\\', mission=\\'Kepler\\').download_all()[:12]\\n\\n# A function to filter out red noise and flatten the light curve\\ndef squelch_rednoise(lc):\\n    corrected_lc = lc.remove_outliers(sigma_upper=10, sigma_lower=10).normalize().flatten(window_length=101)\\n    return corrected_lc\\n\\n# Stitch the light curve files and apply the red noise filter\\nstitched_lc = lcfs.stitch(corrector_func=squelch_rednoise)\\n\\n# Remove NaNs and bin the light curve\\nclc = stitched_lc.remove_nans().bin(time_bin_size=15*lk.units.minute)\\n\\n# Calculate the periodogram\\nperiodogram = clc.to_periodogram(method=\\'bls\\', period=np.arange(50, 500, 0.01))\\n\\n# Find peaks in the periodogram excluding those arising from Earth\\'s revolution\\npeaks, _ = find_peaks(periodogram.power, height=0.5, distance=100)\\nperiodogram.plot();\\nplt.plot(periodogram.period[peaks], periodogram.power[peaks], \"ro\");\\n\\n# Get a sorted list of candidate periods\\ncandidate_periods = periodogram.period[peaks]\\ncandidate_periods_index = np.argsort(-periodogram.power[peaks])\\nsorted_candidate_periods = candidate_periods[candidate_periods_index]\\n\\n# Filter the list of periods from longest to shortest\\nfiltered_periods = []\\nfor period in sorted_candidate_periods:\\n    if not any([np.isclose(period/2, filtered_period, rtol=1e-2) for filtered_period in filtered_periods]) and \\\\\\n       not any([np.isclose(period/3, filtered_period, rtol=1e-2) for filtered_period in filtered_periods]):\\n       filtered_periods.append(period)\\n\\n# Refine the periods\\nrefined_periods = []\\nfor period in filtered_periods:\\n    refined_periodogram = clc.to_periodogram(method=\\'bls\\', period=np.arange(period-5, period+5, 0.01))\\n    best_period = refined_periodogram.period_at_max_power\\n    refined_periods.append(best_period)\\n\\n# Plot folded light curves for each of the refined periods\\nfor period in refined_periods:\\n    clc.fold(period).scatter();\\n```\\n\\nPlease note that this code may take a long time to run, and the use of Kepler data and its interpretation is a complex task. You should read the related documentation and adjust the parameters and algorithms according to your requirements.'"
      ]
     },
     "execution_count": 5,
     "metadata": {},
     "output_type": "execute_result"
    }
   ],
   "source": [
    "x"
   ]
  },
  {
   "cell_type": "code",
   "execution_count": 11,
   "metadata": {},
   "outputs": [
    {
     "name": "stdout",
     "output_type": "stream",
     "text": [
      "['for i in range(3):\\n    print(\"Hello World\")\\n    print(f\"This is the value of i: {i}\")']\n"
     ]
    },
    {
     "data": {
      "text/plain": [
       "'for i in range(3):\\n    print(\"Hello World\")\\n    print(f\"This is the value of i: {i}\")'"
      ]
     },
     "execution_count": 11,
     "metadata": {},
     "output_type": "execute_result"
    }
   ],
   "source": [
    "def extract_code_blocks(text):\n",
    "    # Define the pattern to match Python code blocks\n",
    "    pattern = r\"```python(.*?)```\"\n",
    "    # Use re.DOTALL to match across multiple lines\n",
    "    matches = re.findall(pattern, text, re.DOTALL)\n",
    "\n",
    "    # Clean up the matches by stripping leading and trailing whitespace\n",
    "    code_blocks = [match.strip() for match in matches]\n",
    "\n",
    "    return code_blocks\n",
    "y = extract_code_blocks(response)\n",
    "print(extract_code_blocks(response))\n",
    "y[0]"
   ]
  },
  {
   "cell_type": "code",
   "execution_count": 7,
   "metadata": {},
   "outputs": [
    {
     "name": "stdout",
     "output_type": "stream",
     "text": [
      "['# Import packages\\nfrom scipy.signal import find_peaks\\nfrom lightkurve import search_lightcurve\\nimport lightkurve as lk\\nimport matplotlib.pyplot as plt\\nimport pandas as pd\\nimport numpy as np\\n\\n# Download light curve files for \\'Kepler-90\\'\\nlcfs = lk.search_lightcurve(\\'Kepler-90\\', mission=\\'Kepler\\').download_all()[:12]\\n\\n# A function to filter out red noise and flatten the light curve\\ndef squelch_rednoise(lc):\\n    corrected_lc = lc.remove_outliers(sigma_upper=10, sigma_lower=10).normalize().flatten(window_length=101)\\n    return corrected_lc\\n\\n# Stitch the light curve files and apply the red noise filter\\nstitched_lc = lcfs.stitch(corrector_func=squelch_rednoise)\\n\\n# Remove NaNs and bin the light curve\\nclc = stitched_lc.remove_nans().bin(time_bin_size=15*lk.units.minute)\\n\\n# Calculate the periodogram\\nperiodogram = clc.to_periodogram(method=\\'bls\\', period=np.arange(50, 500, 0.01))\\n\\n# Find peaks in the periodogram excluding those arising from Earth\\'s revolution\\npeaks, _ = find_peaks(periodogram.power, height=0.5, distance=100)\\nperiodogram.plot();\\nplt.plot(periodogram.period[peaks], periodogram.power[peaks], \"ro\");\\n\\n# Get a sorted list of candidate periods\\ncandidate_periods = periodogram.period[peaks]\\ncandidate_periods_index = np.argsort(-periodogram.power[peaks])\\nsorted_candidate_periods = candidate_periods[candidate_periods_index]\\n\\n# Filter the list of periods from longest to shortest\\nfiltered_periods = []\\nfor period in sorted_candidate_periods:\\n    if not any([np.isclose(period/2, filtered_period, rtol=1e-2) for filtered_period in filtered_periods]) and \\\\\\n       not any([np.isclose(period/3, filtered_period, rtol=1e-2) for filtered_period in filtered_periods]):\\n       filtered_periods.append(period)\\n\\n# Refine the periods\\nrefined_periods = []\\nfor period in filtered_periods:\\n    refined_periodogram = clc.to_periodogram(method=\\'bls\\', period=np.arange(period-5, period+5, 0.01))\\n    best_period = refined_periodogram.period_at_max_power\\n    refined_periods.append(best_period)\\n\\n# Plot folded light curves for each of the refined periods\\nfor period in refined_periods:\\n    clc.fold(period).scatter();']\n"
     ]
    }
   ],
   "source": [
    "print(extract_code_blocks(x))"
   ]
  },
  {
   "cell_type": "code",
   "execution_count": 8,
   "metadata": {},
   "outputs": [
    {
     "data": {
      "text/plain": [
       "['Sure, here is the Python code:',\n",
       " 'In this Python loop, the first iteration will start from `0`, and the loop will continue until `2`. For each of the loops iteration, it prints \"Hello World\" first, then in the next line it prints `This is the value of i: ` along with the current iteration value.']"
      ]
     },
     "execution_count": 8,
     "metadata": {},
     "output_type": "execute_result"
    }
   ],
   "source": [
    "def extract_explanations(text):\n",
    "    # Define the pattern to match Python code blocks, including the delimiters\n",
    "    pattern = r\"```python.*?```\"\n",
    "    # Split the text by the Python code blocks\n",
    "    non_code_parts = re.split(pattern, text, flags=re.DOTALL)\n",
    "\n",
    "    # Clean up the non-code parts by stripping leading and trailing whitespace\n",
    "    explanations = [part.strip() for part in non_code_parts if part.strip()]\n",
    "\n",
    "    return explanations\n",
    "extract_explanations(response)"
   ]
  }
 ],
 "metadata": {
  "kernelspec": {
   "display_name": "Python 3",
   "language": "python",
   "name": "python3"
  },
  "language_info": {
   "codemirror_mode": {
    "name": "ipython",
    "version": 3
   },
   "file_extension": ".py",
   "mimetype": "text/x-python",
   "name": "python",
   "nbconvert_exporter": "python",
   "pygments_lexer": "ipython3",
   "version": "3.12.2"
  }
 },
 "nbformat": 4,
 "nbformat_minor": 2
}
